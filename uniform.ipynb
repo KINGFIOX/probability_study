{
 "cells": [
  {
   "cell_type": "code",
   "execution_count": 1,
   "metadata": {},
   "outputs": [
    {
     "name": "stdout",
     "output_type": "stream",
     "text": [
      "653.1965634361162\n",
      "49.59272384079546\n"
     ]
    }
   ],
   "source": [
    "import numpy as np\n",
    "\n",
    "\n",
    "class LCG:\n",
    "    def __init__(self, seed, a, c, m):\n",
    "        self.state = seed\n",
    "        self.a = a\n",
    "        self.c = c\n",
    "        self.m = m\n",
    "\n",
    "    def next(self):\n",
    "        self.state = (self.a * self.state + self.c) % self.m\n",
    "        return self.state\n",
    "\n",
    "\n",
    "vars = []\n",
    "means = []\n",
    "a = [i for i in range(1, 100)]\n",
    "c = [i for i in range(1, 100)]\n",
    "seed = [i for i in range(1, 100)]\n",
    "n = 10000  # 生成1w个数\n",
    "m = 100\n",
    "\n",
    "for x in a:\n",
    "    for y in c:\n",
    "        for z in seed:\n",
    "            l = LCG(z, x, y, m)\n",
    "            arr = np.array([l.next() for _ in range(n)])\n",
    "            temp = np.array(arr)\n",
    "            vars.append(temp.var())\n",
    "            means.append(temp.mean())\n",
    "\n",
    "print(np.array(vars).mean())\n",
    "print(np.array(means).mean())"
   ]
  },
  {
   "cell_type": "code",
   "execution_count": 2,
   "metadata": {},
   "outputs": [
    {
     "name": "stdout",
     "output_type": "stream",
     "text": [
      "均值\t: 49.5\n",
      "方差\t: 833.25\n"
     ]
    }
   ],
   "source": [
    "import numpy as np\n",
    "\n",
    "arr = [i for j in range(0,100) for i in range(0, 100)]\n",
    "temp = np.array(arr)\n",
    "print(\"均值\\t:\", temp.mean())\n",
    "print(\"方差\\t:\", temp.var())"
   ]
  },
  {
   "cell_type": "code",
   "execution_count": null,
   "metadata": {},
   "outputs": [],
   "source": []
  },
  {
   "cell_type": "code",
   "execution_count": null,
   "metadata": {},
   "outputs": [],
   "source": []
  },
  {
   "cell_type": "code",
   "execution_count": null,
   "metadata": {},
   "outputs": [],
   "source": []
  }
 ],
 "metadata": {
  "kernelspec": {
   "display_name": "Python 3 (ipykernel)",
   "language": "python",
   "name": "python3"
  },
  "language_info": {
   "codemirror_mode": {
    "name": "ipython",
    "version": 3
   },
   "file_extension": ".py",
   "mimetype": "text/x-python",
   "name": "python",
   "nbconvert_exporter": "python",
   "pygments_lexer": "ipython3",
   "version": "3.11.5"
  }
 },
 "nbformat": 4,
 "nbformat_minor": 2
}
