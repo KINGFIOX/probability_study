{
 "cells": [
  {
   "cell_type": "markdown",
   "source": [
    "## 实验1"
   ],
   "metadata": {
    "collapsed": false
   },
   "id": "9cb4b3fb6b3cd39a"
  },
  {
   "cell_type": "code",
   "execution_count": 39,
   "id": "initial_id",
   "metadata": {
    "collapsed": true,
    "ExecuteTime": {
     "end_time": "2023-09-26T08:44:00.678987Z",
     "start_time": "2023-09-26T08:44:00.523860Z"
    }
   },
   "outputs": [],
   "source": [
    "import numpy as np\n",
    "import math\n",
    "import matplotlib.pyplot as plt"
   ]
  },
  {
   "cell_type": "code",
   "execution_count": 8,
   "outputs": [],
   "source": [
    "p = 0.3\n",
    "n = 1000"
   ],
   "metadata": {
    "collapsed": false,
    "ExecuteTime": {
     "end_time": "2023-09-26T08:26:35.362487Z",
     "start_time": "2023-09-26T08:26:35.360228Z"
    }
   },
   "id": "81ec9ed6d005b4b8"
  },
  {
   "cell_type": "code",
   "execution_count": 9,
   "outputs": [],
   "source": [
    "n_A = np.random.binomial(1, p, n)"
   ],
   "metadata": {
    "collapsed": false,
    "ExecuteTime": {
     "end_time": "2023-09-26T08:26:59.282087Z",
     "start_time": "2023-09-26T08:26:59.278662Z"
    }
   },
   "id": "15bbb420963a32c5"
  },
  {
   "cell_type": "code",
   "execution_count": 11,
   "outputs": [
    {
     "data": {
      "text/plain": "0.0010000000000000009"
     },
     "execution_count": 11,
     "metadata": {},
     "output_type": "execute_result"
    }
   ],
   "source": [
    "math.fabs(n_A.sum() / n - p)"
   ],
   "metadata": {
    "collapsed": false,
    "ExecuteTime": {
     "end_time": "2023-09-26T08:28:01.475737Z",
     "start_time": "2023-09-26T08:28:01.469662Z"
    }
   },
   "id": "7e1689197bbb33a"
  },
  {
   "cell_type": "code",
   "execution_count": 36,
   "outputs": [],
   "source": [
    "p = 0.3\n",
    "epsilon = 0.05\n",
    "epochs = 500"
   ],
   "metadata": {
    "collapsed": false,
    "ExecuteTime": {
     "end_time": "2023-09-26T08:41:06.976505Z",
     "start_time": "2023-09-26T08:41:06.971768Z"
    }
   },
   "id": "aaba8c7831954be0"
  },
  {
   "cell_type": "code",
   "execution_count": 38,
   "outputs": [
    {
     "name": "stdout",
     "output_type": "stream",
     "text": [
      "364\t\t0.728\n",
      "282\t\t0.564\n",
      "176\t\t0.352\n",
      "23\t\t0.046\n",
      "1\t\t0.002\n"
     ]
    }
   ],
   "source": [
    "for n in [10, 30, 90, 270, 810]:\n",
    "    count = 0\n",
    "    for epoch in range(epochs):\n",
    "        n_A = np.random.binomial(1, p, n)\n",
    "        if math.fabs(n_A.sum() / n - p) >= epsilon:\n",
    "            count += 1\n",
    "    print(f\"{count}\\t\\t{count / epochs}\")"
   ],
   "metadata": {
    "collapsed": false,
    "ExecuteTime": {
     "end_time": "2023-09-26T08:41:23.638170Z",
     "start_time": "2023-09-26T08:41:23.615357Z"
    }
   },
   "id": "6b76f59e509f4821"
  },
  {
   "cell_type": "code",
   "execution_count": 45,
   "outputs": [],
   "source": [
    "m, n, p = 100, 500, 0.7\n",
    "xr = np.random.binomial(1, p, [m, n])  # 100行500列的二项分布，相当于n=500，重复了100次\n",
    "xr = xr.sum(axis=1) / n - p\n",
    "c = abs(xr)"
   ],
   "metadata": {
    "collapsed": false,
    "ExecuteTime": {
     "end_time": "2023-09-26T08:46:57.811756Z",
     "start_time": "2023-09-26T08:46:57.806636Z"
    }
   },
   "id": "41f14a5db0857a11"
  },
  {
   "cell_type": "code",
   "execution_count": 46,
   "outputs": [],
   "source": [
    "fxc = sum(c <= 0.05)"
   ],
   "metadata": {
    "collapsed": false,
    "ExecuteTime": {
     "end_time": "2023-09-26T08:47:03.694434Z",
     "start_time": "2023-09-26T08:47:03.689984Z"
    }
   },
   "id": "e57a845c5af266e2"
  },
  {
   "cell_type": "code",
   "execution_count": 47,
   "outputs": [],
   "source": [
    "fre = 1 - fxc / m"
   ],
   "metadata": {
    "collapsed": false,
    "ExecuteTime": {
     "end_time": "2023-09-26T08:47:43.295386Z",
     "start_time": "2023-09-26T08:47:43.291152Z"
    }
   },
   "id": "2e56d90227c2f77c"
  },
  {
   "cell_type": "code",
   "execution_count": 49,
   "outputs": [
    {
     "name": "stdout",
     "output_type": "stream",
     "text": [
      "0.010000000000000009\n"
     ]
    }
   ],
   "source": [
    "print(fre)"
   ],
   "metadata": {
    "collapsed": false,
    "ExecuteTime": {
     "end_time": "2023-09-26T08:47:58.108391Z",
     "start_time": "2023-09-26T08:47:58.104203Z"
    }
   },
   "id": "d76468f8b4ae9df6"
  },
  {
   "cell_type": "markdown",
   "source": [
    "## 实验2"
   ],
   "metadata": {
    "collapsed": false
   },
   "id": "e0f486735e7051da"
  },
  {
   "cell_type": "code",
   "execution_count": 51,
   "outputs": [],
   "source": [
    "n = 50"
   ],
   "metadata": {
    "collapsed": false,
    "ExecuteTime": {
     "end_time": "2023-09-26T08:50:25.759357Z",
     "start_time": "2023-09-26T08:50:25.751708Z"
    }
   },
   "id": "d5e18288df09842e"
  },
  {
   "cell_type": "code",
   "execution_count": 53,
   "outputs": [],
   "source": [
    "x = np.random.uniform(0, 1, n)"
   ],
   "metadata": {
    "collapsed": false,
    "ExecuteTime": {
     "end_time": "2023-09-26T08:52:30.736660Z",
     "start_time": "2023-09-26T08:52:30.734909Z"
    }
   },
   "id": "c00832ebab6450de"
  },
  {
   "cell_type": "code",
   "execution_count": 54,
   "outputs": [],
   "source": [
    "y = x.sum()"
   ],
   "metadata": {
    "collapsed": false,
    "ExecuteTime": {
     "end_time": "2023-09-26T08:52:42.365683Z",
     "start_time": "2023-09-26T08:52:42.360043Z"
    }
   },
   "id": "658f9e13576278f7"
  },
  {
   "cell_type": "code",
   "execution_count": 55,
   "outputs": [
    {
     "data": {
      "text/plain": "-2.373436971342199"
     },
     "execution_count": 55,
     "metadata": {},
     "output_type": "execute_result"
    }
   ],
   "source": [
    "(y - n / 2) / math.sqrt(n / 12)"
   ],
   "metadata": {
    "collapsed": false,
    "ExecuteTime": {
     "end_time": "2023-09-26T08:53:08.549149Z",
     "start_time": "2023-09-26T08:53:08.544901Z"
    }
   },
   "id": "b995ca7ff65d243e"
  },
  {
   "cell_type": "code",
   "execution_count": 60,
   "outputs": [],
   "source": [
    "m = 1000\n",
    "y = []\n",
    "for i in range(m):\n",
    "    n = 50\n",
    "    x = np.random.uniform(0, 1, n)\n",
    "    y.append((x.sum() - n / 2) / math.sqrt(n / 12))"
   ],
   "metadata": {
    "collapsed": false,
    "ExecuteTime": {
     "end_time": "2023-09-26T08:56:30.692064Z",
     "start_time": "2023-09-26T08:56:30.684924Z"
    }
   },
   "id": "a7dc24bc80afe587"
  },
  {
   "cell_type": "code",
   "execution_count": 62,
   "outputs": [],
   "source": [
    "y = np.array(y)"
   ],
   "metadata": {
    "collapsed": false,
    "ExecuteTime": {
     "end_time": "2023-09-26T08:56:42.685928Z",
     "start_time": "2023-09-26T08:56:42.684528Z"
    }
   },
   "id": "729c29f682e7e43c"
  },
  {
   "cell_type": "code",
   "execution_count": 64,
   "outputs": [
    {
     "data": {
      "text/plain": "(array([  2.,  25.,  84., 200., 241., 207., 154.,  74.,  12.,   1.]),\n array([-3.32594509, -2.64607581, -1.96620652, -1.28633724, -0.60646796,\n         0.07340133,  0.75327061,  1.4331399 ,  2.11300918,  2.79287846,\n         3.47274775]),\n <BarContainer object of 10 artists>)"
     },
     "execution_count": 64,
     "metadata": {},
     "output_type": "execute_result"
    },
    {
     "data": {
      "text/plain": "<Figure size 640x480 with 1 Axes>",
      "image/png": "[encoded data removed]"
     },
     "metadata": {},
     "output_type": "display_data"
    }
   ],
   "source": [
    "plt.hist(y)"
   ],
   "metadata": {
    "collapsed": false,
    "ExecuteTime": {
     "end_time": "2023-09-26T08:57:04.376705Z",
     "start_time": "2023-09-26T08:57:04.310822Z"
    }
   },
   "id": "7d71d847b6ec4d75"
  },
  {
   "cell_type": "code",
   "execution_count": 67,
   "outputs": [
    {
     "data": {
      "text/plain": "(array([  8.,  41., 124., 210., 218., 198., 106.,  62.,  24.,   9.]),\n array([ 2.88658737,  4.91652877,  6.94647017,  8.97641158, 11.00635298,\n        13.03629438, 15.06623579, 17.09617719, 19.12611859, 21.15606   ,\n        23.1860014 ]),\n <BarContainer object of 10 artists>)"
     },
     "execution_count": 67,
     "metadata": {},
     "output_type": "execute_result"
    },
    {
     "data": {
      "text/plain": "<Figure size 640x480 with 1 Axes>",
      "image/png": "[encoded data removed]"
     },
     "metadata": {},
     "output_type": "display_data"
    }
   ],
   "source": [
    "m = 1000\n",
    "y = []\n",
    "for i in range(m):\n",
    "    n = 50\n",
    "    x = np.random.exponential(1, n)\n",
    "    y.append((x.sum() - n / 2) / math.sqrt(n / 12))\n",
    "y = np.array(y)\n",
    "plt.hist(y)"
   ],
   "metadata": {
    "collapsed": false,
    "ExecuteTime": {
     "end_time": "2023-09-26T08:58:40.439529Z",
     "start_time": "2023-09-26T08:58:40.370418Z"
    }
   },
   "id": "c5ddfef17e8b7b7c"
  },
  {
   "cell_type": "code",
   "execution_count": null,
   "outputs": [],
   "source": [],
   "metadata": {
    "collapsed": false
   },
   "id": "71e5aa71bfc905d7"
  },
  {
   "cell_type": "code",
   "execution_count": 68,
   "outputs": [],
   "source": [
    "import scipy.stats as stats"
   ],
   "metadata": {
    "collapsed": false,
    "ExecuteTime": {
     "end_time": "2023-09-26T09:04:24.988858Z",
     "start_time": "2023-09-26T09:04:24.980231Z"
    }
   },
   "id": "6d94d5425ec25dfa"
  },
  {
   "cell_type": "code",
   "execution_count": 76,
   "outputs": [
    {
     "data": {
      "text/plain": "[<matplotlib.lines.Line2D at 0x16b468450>]"
     },
     "execution_count": 76,
     "metadata": {},
     "output_type": "execute_result"
    },
    {
     "data": {
      "text/plain": "<Figure size 640x480 with 1 Axes>",
      "image/png": "[encoded data removed]"
     },
     "metadata": {},
     "output_type": "display_data"
    }
   ],
   "source": [
    "m, n, p = 1000, 50, 0.7\n",
    "xr = np.random.uniform(0, 1, [m, n])\n",
    "a = xr.sum(axis=1) - (n / 2)\n",
    "b = np.sqrt(n / 12)\n",
    "c = a / b\n",
    "x2 = np.arange(-4, 4, 0.01)\n",
    "y2 = stats.norm.pdf(x2, 0, 1)\n",
    "plt.hist(c)\n",
    "plt.plot(x2, y2, color=\"red\")"
   ],
   "metadata": {
    "collapsed": false,
    "ExecuteTime": {
     "end_time": "2023-09-26T09:07:06.488135Z",
     "start_time": "2023-09-26T09:07:06.420120Z"
    }
   },
   "id": "cb1b2ab0b0769dd3"
  },
  {
   "cell_type": "code",
   "execution_count": 78,
   "outputs": [
    {
     "data": {
      "text/plain": "0.9998412698412699"
     },
     "execution_count": 78,
     "metadata": {},
     "output_type": "execute_result"
    }
   ],
   "source": [
    "1 - 700 / 2100 ** 2"
   ],
   "metadata": {
    "collapsed": false,
    "ExecuteTime": {
     "end_time": "2023-09-26T09:09:15.830690Z",
     "start_time": "2023-09-26T09:09:15.826731Z"
    }
   },
   "id": "798e13cdb269b7b1"
  }
 ],
 "metadata": {
  "kernelspec": {
   "display_name": "Python 3",
   "language": "python",
   "name": "python3"
  },
  "language_info": {
   "codemirror_mode": {
    "name": "ipython",
    "version": 2
   },
   "file_extension": ".py",
   "mimetype": "text/x-python",
   "name": "python",
   "nbconvert_exporter": "python",
   "pygments_lexer": "ipython2",
   "version": "2.7.6"
  }
 },
 "nbformat": 4,
 "nbformat_minor": 5
}
