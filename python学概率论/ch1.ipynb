{
 "cells": [
  {
   "cell_type": "code",
   "execution_count": 2,
   "id": "initial_id",
   "metadata": {
    "collapsed": true,
    "ExecuteTime": {
     "end_time": "2023-09-25T04:50:35.183652Z",
     "start_time": "2023-09-25T04:50:34.906770Z"
    }
   },
   "outputs": [],
   "source": [
    "import numpy as np"
   ]
  },
  {
   "cell_type": "markdown",
   "source": [
    "## 伯努利实验"
   ],
   "metadata": {
    "collapsed": false
   },
   "id": "76920d6a7541043c"
  },
  {
   "cell_type": "code",
   "execution_count": 3,
   "outputs": [],
   "source": [
    "n = 10000  # 跑100次硬币\n",
    "p = 0.5"
   ],
   "metadata": {
    "collapsed": false,
    "ExecuteTime": {
     "end_time": "2023-09-25T04:50:35.184395Z",
     "start_time": "2023-09-25T04:50:34.966475Z"
    }
   },
   "id": "3f47847254738771"
  },
  {
   "cell_type": "code",
   "execution_count": 4,
   "outputs": [],
   "source": [
    "n_experiment = 5  # 将整个实验重复5次"
   ],
   "metadata": {
    "collapsed": false,
    "ExecuteTime": {
     "end_time": "2023-09-25T04:50:35.184526Z",
     "start_time": "2023-09-25T04:50:34.968908Z"
    }
   },
   "id": "bd43394f3f5b03a1"
  },
  {
   "cell_type": "code",
   "execution_count": 5,
   "outputs": [],
   "source": [
    "h = np.random.binomial(n, p, n_experiment)"
   ],
   "metadata": {
    "collapsed": false,
    "ExecuteTime": {
     "end_time": "2023-09-25T04:50:35.184622Z",
     "start_time": "2023-09-25T04:50:34.979318Z"
    }
   },
   "id": "aa6266b3412d6577"
  },
  {
   "cell_type": "code",
   "execution_count": 6,
   "outputs": [],
   "source": [
    "frequency = h / n"
   ],
   "metadata": {
    "collapsed": false,
    "ExecuteTime": {
     "end_time": "2023-09-25T04:50:35.184708Z",
     "start_time": "2023-09-25T04:50:34.982928Z"
    }
   },
   "id": "66aec980c5fd07df"
  },
  {
   "cell_type": "code",
   "execution_count": 7,
   "outputs": [
    {
     "name": "stdout",
     "output_type": "stream",
     "text": [
      "[5096 4988 4931 5010 4964]\n"
     ]
    }
   ],
   "source": [
    "print(h)"
   ],
   "metadata": {
    "collapsed": false,
    "ExecuteTime": {
     "end_time": "2023-09-25T04:50:35.184934Z",
     "start_time": "2023-09-25T04:50:34.989104Z"
    }
   },
   "id": "28d24e8a54aa55cf"
  },
  {
   "cell_type": "code",
   "execution_count": 8,
   "outputs": [
    {
     "name": "stdout",
     "output_type": "stream",
     "text": [
      "[0.5096 0.4988 0.4931 0.501  0.4964]\n"
     ]
    }
   ],
   "source": [
    "print(frequency)"
   ],
   "metadata": {
    "collapsed": false,
    "ExecuteTime": {
     "end_time": "2023-09-25T04:50:35.185139Z",
     "start_time": "2023-09-25T04:50:34.995982Z"
    }
   },
   "id": "f99f61d981a62174"
  },
  {
   "cell_type": "markdown",
   "source": [
    "## 抽签实验"
   ],
   "metadata": {
    "collapsed": false
   },
   "id": "9a33588f1958c5ca"
  },
  {
   "cell_type": "code",
   "execution_count": 9,
   "outputs": [],
   "source": [
    "n = 10000\n",
    "list = [1, 2, 3, 4, 5, 6, 7, 8, 9, 10]\n",
    "a = [0, 0, 0, 0, 0, 0, 0, 0, 0, 0]"
   ],
   "metadata": {
    "collapsed": false,
    "ExecuteTime": {
     "end_time": "2023-09-25T04:50:35.185488Z",
     "start_time": "2023-09-25T04:50:35.001192Z"
    }
   },
   "id": "bf093696bcf65921"
  },
  {
   "cell_type": "code",
   "execution_count": 10,
   "outputs": [],
   "source": [
    "for j in range(n):\n",
    "    np.random.shuffle(list)\n",
    "    i = list.index(10)  # 为value=10的index\n",
    "    a[i] = a[i] + 1"
   ],
   "metadata": {
    "collapsed": false,
    "ExecuteTime": {
     "end_time": "2023-09-25T04:50:35.185680Z",
     "start_time": "2023-09-25T04:50:35.023526Z"
    }
   },
   "id": "6a06822192982c3e"
  },
  {
   "cell_type": "code",
   "execution_count": 11,
   "outputs": [
    {
     "name": "stdout",
     "output_type": "stream",
     "text": [
      "[1025, 960, 1013, 924, 1029, 999, 1017, 956, 1027, 1050]\n"
     ]
    }
   ],
   "source": [
    "print(a)"
   ],
   "metadata": {
    "collapsed": false,
    "ExecuteTime": {
     "end_time": "2023-09-25T04:50:35.185914Z",
     "start_time": "2023-09-25T04:50:35.033838Z"
    }
   },
   "id": "d5145d0ff7fc9606"
  },
  {
   "cell_type": "code",
   "execution_count": 12,
   "outputs": [],
   "source": [
    "frequency = np.array(a) / n"
   ],
   "metadata": {
    "collapsed": false,
    "ExecuteTime": {
     "end_time": "2023-09-25T04:50:35.186019Z",
     "start_time": "2023-09-25T04:50:35.042100Z"
    }
   },
   "id": "8ffd57f99c6b799c"
  },
  {
   "cell_type": "code",
   "execution_count": 13,
   "outputs": [
    {
     "name": "stdout",
     "output_type": "stream",
     "text": [
      "[0.1025 0.096  0.1013 0.0924 0.1029 0.0999 0.1017 0.0956 0.1027 0.105 ]\n"
     ]
    }
   ],
   "source": [
    "print(frequency)"
   ],
   "metadata": {
    "collapsed": false,
    "ExecuteTime": {
     "end_time": "2023-09-25T04:50:35.186488Z",
     "start_time": "2023-09-25T04:50:35.048336Z"
    }
   },
   "id": "ab2f798b895f49c3"
  },
  {
   "cell_type": "markdown",
   "source": [
    "## 生日相同"
   ],
   "metadata": {
    "collapsed": false
   },
   "id": "825928e8f635018a"
  },
  {
   "cell_type": "code",
   "execution_count": 14,
   "outputs": [],
   "source": [
    "nstd = 22  # 实验人数\n",
    "ntimes = 1000  # 实验次数\n",
    "fre = 0"
   ],
   "metadata": {
    "collapsed": false,
    "ExecuteTime": {
     "end_time": "2023-09-25T04:50:35.186671Z",
     "start_time": "2023-09-25T04:50:35.056232Z"
    }
   },
   "id": "3d62f38014594a3a"
  },
  {
   "cell_type": "code",
   "execution_count": 15,
   "outputs": [],
   "source": [
    "for i in range(ntimes):  # 重复1000次实验\n",
    "    s = 0\n",
    "    data = np.random.uniform(1, 366, nstd)  # data\n",
    "    date = np.floor(data)  # 每个人的生日数据，将float向下取整\n",
    "    date = np.array(date)\n",
    "    newdate = set(date)  # 删除重复数据\n",
    "    nsize = len(newdate)\n",
    "    if nsize < nstd:\n",
    "        fre = fre + 1"
   ],
   "metadata": {
    "collapsed": false,
    "ExecuteTime": {
     "end_time": "2023-09-25T04:50:35.186795Z",
     "start_time": "2023-09-25T04:50:35.062322Z"
    }
   },
   "id": "9f08e238f96e5a20"
  },
  {
   "cell_type": "code",
   "execution_count": 16,
   "outputs": [
    {
     "name": "stdout",
     "output_type": "stream",
     "text": [
      "487\n"
     ]
    }
   ],
   "source": [
    "print(fre)  # 1000次实验中，有502次重复的"
   ],
   "metadata": {
    "collapsed": false,
    "ExecuteTime": {
     "end_time": "2023-09-25T04:50:35.186977Z",
     "start_time": "2023-09-25T04:50:35.081194Z"
    }
   },
   "id": "984684158773e0cc"
  },
  {
   "cell_type": "code",
   "execution_count": 17,
   "outputs": [
    {
     "name": "stdout",
     "output_type": "stream",
     "text": [
      "0.487\n"
     ]
    }
   ],
   "source": [
    "print(fre / ntimes)"
   ],
   "metadata": {
    "collapsed": false,
    "ExecuteTime": {
     "end_time": "2023-09-25T04:50:35.187357Z",
     "start_time": "2023-09-25T04:50:35.087896Z"
    }
   },
   "id": "da96229cfe7dac88"
  },
  {
   "cell_type": "markdown",
   "source": [
    "# 习题"
   ],
   "metadata": {
    "collapsed": false
   },
   "id": "bee4ca366d5def13"
  },
  {
   "cell_type": "markdown",
   "source": [
    "## 7"
   ],
   "metadata": {
    "collapsed": false
   },
   "id": "c6481965a3782789"
  },
  {
   "cell_type": "code",
   "execution_count": 18,
   "outputs": [],
   "source": [
    "import math"
   ],
   "metadata": {
    "collapsed": false,
    "ExecuteTime": {
     "end_time": "2023-09-25T04:50:35.187493Z",
     "start_time": "2023-09-25T04:50:35.098131Z"
    }
   },
   "id": "1380735c2af78f2b"
  },
  {
   "cell_type": "code",
   "execution_count": 19,
   "outputs": [
    {
     "data": {
      "text/plain": "0.308076422058185"
     },
     "execution_count": 19,
     "metadata": {},
     "output_type": "execute_result"
    }
   ],
   "source": [
    "math.comb(46, 4) * math.comb(4, 1) / math.comb(50, 5)"
   ],
   "metadata": {
    "collapsed": false,
    "ExecuteTime": {
     "end_time": "2023-09-25T04:50:35.187791Z",
     "start_time": "2023-09-25T04:50:35.109509Z"
    }
   },
   "id": "6bab38d4b98bdf7e"
  },
  {
   "cell_type": "code",
   "execution_count": 20,
   "outputs": [
    {
     "data": {
      "text/plain": "0.3530395136778115"
     },
     "execution_count": 20,
     "metadata": {},
     "output_type": "execute_result"
    }
   ],
   "source": [
    "1 - (math.comb(46, 5) / math.comb(50, 5))"
   ],
   "metadata": {
    "collapsed": false,
    "ExecuteTime": {
     "end_time": "2023-09-25T04:50:35.188010Z",
     "start_time": "2023-09-25T04:50:35.119787Z"
    }
   },
   "id": "923ea08a240a8fb8"
  },
  {
   "cell_type": "markdown",
   "source": [
    "## 8"
   ],
   "metadata": {
    "collapsed": false
   },
   "id": "a5191580e2420f25"
  },
  {
   "cell_type": "code",
   "execution_count": 21,
   "outputs": [
    {
     "data": {
      "text/plain": "0.691358024691358"
     },
     "execution_count": 21,
     "metadata": {},
     "output_type": "execute_result"
    }
   ],
   "source": [
    "math.comb(9, 3) * math.perm(3, 3) / 9 ** 3"
   ],
   "metadata": {
    "collapsed": false,
    "ExecuteTime": {
     "end_time": "2023-09-25T04:50:35.188203Z",
     "start_time": "2023-09-25T04:50:35.126473Z"
    }
   },
   "id": "68647ff9872b42ed"
  },
  {
   "cell_type": "code",
   "execution_count": 22,
   "outputs": [
    {
     "data": {
      "text/plain": "0.17146776406035666"
     },
     "execution_count": 22,
     "metadata": {},
     "output_type": "execute_result"
    }
   ],
   "source": [
    "5 ** 3 / 9 ** 3"
   ],
   "metadata": {
    "collapsed": false,
    "ExecuteTime": {
     "end_time": "2023-09-25T04:50:35.188371Z",
     "start_time": "2023-09-25T04:50:35.135168Z"
    }
   },
   "id": "3613799fd8ffef2e"
  },
  {
   "cell_type": "code",
   "execution_count": 23,
   "outputs": [
    {
     "data": {
      "text/plain": "0.2962962962962963"
     },
     "execution_count": 23,
     "metadata": {},
     "output_type": "execute_result"
    }
   ],
   "source": [
    "6 ** 3 / 9 ** 3"
   ],
   "metadata": {
    "collapsed": false,
    "ExecuteTime": {
     "end_time": "2023-09-25T04:50:35.188546Z",
     "start_time": "2023-09-25T04:50:35.144258Z"
    }
   },
   "id": "f0ac5294d49fb4f0"
  },
  {
   "cell_type": "code",
   "execution_count": 24,
   "outputs": [
    {
     "data": {
      "text/plain": "0.23045267489711935"
     },
     "execution_count": 24,
     "metadata": {},
     "output_type": "execute_result"
    }
   ],
   "source": [
    "math.comb(9, 3) * 2 / 9 ** 3"
   ],
   "metadata": {
    "collapsed": false,
    "ExecuteTime": {
     "end_time": "2023-09-25T04:50:35.189103Z",
     "start_time": "2023-09-25T04:50:35.149897Z"
    }
   },
   "id": "c1f4807f8e0389f4"
  },
  {
   "cell_type": "code",
   "execution_count": 25,
   "outputs": [
    {
     "data": {
      "text/plain": "0.04938271604938271"
     },
     "execution_count": 25,
     "metadata": {},
     "output_type": "execute_result"
    }
   ],
   "source": [
    "math.comb(4, 2) * math.perm(3, 3) / 9 ** 3"
   ],
   "metadata": {
    "collapsed": false,
    "ExecuteTime": {
     "end_time": "2023-09-25T04:50:35.189468Z",
     "start_time": "2023-09-25T04:50:35.161036Z"
    }
   },
   "id": "b6f5d70260defa48"
  },
  {
   "cell_type": "code",
   "execution_count": 26,
   "outputs": [
    {
     "data": {
      "text/plain": "0.12482853223593965"
     },
     "execution_count": 26,
     "metadata": {},
     "output_type": "execute_result"
    }
   ],
   "source": [
    "91 / 9 ** 3"
   ],
   "metadata": {
    "collapsed": false,
    "ExecuteTime": {
     "end_time": "2023-09-25T04:50:35.189838Z",
     "start_time": "2023-09-25T04:50:35.167368Z"
    }
   },
   "id": "dbc0ee8a785a402d"
  },
  {
   "cell_type": "code",
   "execution_count": 27,
   "outputs": [
    {
     "data": {
      "text/plain": "0.15873015873015872"
     },
     "execution_count": 27,
     "metadata": {},
     "output_type": "execute_result"
    }
   ],
   "source": [
    "math.comb(5, 1) * math.comb(4, 1) * math.comb(4, 1) / math.perm(9, 3)"
   ],
   "metadata": {
    "collapsed": false,
    "ExecuteTime": {
     "end_time": "2023-09-25T04:50:35.190734Z",
     "start_time": "2023-09-25T04:50:35.180540Z"
    }
   },
   "id": "58a8990f2394a4c4"
  },
  {
   "cell_type": "code",
   "execution_count": 28,
   "outputs": [
    {
     "data": {
      "text/plain": "0.16161616161616163"
     },
     "execution_count": 28,
     "metadata": {},
     "output_type": "execute_result"
    }
   ],
   "source": [
    "16 / (11 * 9)"
   ],
   "metadata": {
    "collapsed": false,
    "ExecuteTime": {
     "end_time": "2023-09-25T04:50:35.204323Z",
     "start_time": "2023-09-25T04:50:35.183831Z"
    }
   },
   "id": "299b2882be1c2063"
  },
  {
   "cell_type": "code",
   "execution_count": 29,
   "outputs": [
    {
     "data": {
      "text/plain": "3.576691395183483"
     },
     "execution_count": 29,
     "metadata": {},
     "output_type": "execute_result"
    }
   ],
   "source": [
    "math.log(0.00001, 0.04)"
   ],
   "metadata": {
    "collapsed": false,
    "ExecuteTime": {
     "end_time": "2023-09-25T04:50:35.219931Z",
     "start_time": "2023-09-25T04:50:35.189997Z"
    }
   },
   "id": "34001525b3847572"
  },
  {
   "cell_type": "code",
   "execution_count": 29,
   "outputs": [],
   "source": [],
   "metadata": {
    "collapsed": false,
    "ExecuteTime": {
     "end_time": "2023-09-25T04:50:35.220290Z",
     "start_time": "2023-09-25T04:50:35.191904Z"
    }
   },
   "id": "6de892d24484a9c8"
  },
  {
   "cell_type": "code",
   "execution_count": 29,
   "outputs": [],
   "source": [],
   "metadata": {
    "collapsed": false,
    "ExecuteTime": {
     "end_time": "2023-09-25T04:50:35.220388Z",
     "start_time": "2023-09-25T04:50:35.194188Z"
    }
   },
   "id": "1d74c0ecd8655a6a"
  }
 ],
 "metadata": {
  "kernelspec": {
   "display_name": "Python 3",
   "language": "python",
   "name": "python3"
  },
  "language_info": {
   "codemirror_mode": {
    "name": "ipython",
    "version": 2
   },
   "file_extension": ".py",
   "mimetype": "text/x-python",
   "name": "python",
   "nbconvert_exporter": "python",
   "pygments_lexer": "ipython2",
   "version": "2.7.6"
  }
 },
 "nbformat": 4,
 "nbformat_minor": 5
}
