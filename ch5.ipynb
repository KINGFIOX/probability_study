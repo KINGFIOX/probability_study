{
 "cells": [
  {
   "cell_type": "code",
   "execution_count": 1,
   "metadata": {},
   "outputs": [],
   "source": [
    "import numpy as np"
   ]
  },
  {
   "cell_type": "code",
   "execution_count": 2,
   "metadata": {},
   "outputs": [],
   "source": [
    "import sympy"
   ]
  },
  {
   "cell_type": "code",
   "execution_count": 3,
   "metadata": {},
   "outputs": [
    {
     "data": {
      "text/latex": [
       "$\\displaystyle \\frac{776}{2025}$"
      ],
      "text/plain": [
       "776/2025"
      ]
     },
     "execution_count": 3,
     "metadata": {},
     "output_type": "execute_result"
    }
   ],
   "source": [
    "sympy.Rational(776, 45 * 45)"
   ]
  },
  {
   "cell_type": "code",
   "execution_count": 4,
   "metadata": {},
   "outputs": [
    {
     "data": {
      "text/plain": [
       "0.3276800000000001"
      ]
     },
     "execution_count": 4,
     "metadata": {},
     "output_type": "execute_result"
    }
   ],
   "source": [
    "0.8 ** 5"
   ]
  },
  {
   "cell_type": "code",
   "execution_count": 5,
   "metadata": {},
   "outputs": [
    {
     "data": {
      "text/plain": [
       "0.4096000000000001"
      ]
     },
     "execution_count": 5,
     "metadata": {},
     "output_type": "execute_result"
    }
   ],
   "source": [
    "0.8 ** 4 * 0.2 * 5"
   ]
  },
  {
   "cell_type": "code",
   "execution_count": 6,
   "metadata": {},
   "outputs": [
    {
     "data": {
      "text/plain": [
       "0.20480000000000007"
      ]
     },
     "execution_count": 6,
     "metadata": {},
     "output_type": "execute_result"
    }
   ],
   "source": [
    "10 * 0.2 * 0.2 * 0.8 ** 3"
   ]
  },
  {
   "cell_type": "code",
   "execution_count": 7,
   "metadata": {},
   "outputs": [
    {
     "data": {
      "text/plain": [
       "0.05792"
      ]
     },
     "execution_count": 7,
     "metadata": {},
     "output_type": "execute_result"
    }
   ],
   "source": [
    "1 - 0.32768 - 0.4096 - 0.2048"
   ]
  },
  {
   "cell_type": "code",
   "execution_count": 8,
   "metadata": {},
   "outputs": [],
   "source": [
    "y = np.array([10,5,0,-2])\n",
    "p = np.array([0.32768, 0.4096, 0.2048, 0.05792])"
   ]
  },
  {
   "cell_type": "code",
   "execution_count": 9,
   "metadata": {},
   "outputs": [
    {
     "data": {
      "text/plain": [
       "array([ 3.2768 ,  2.048  ,  0.     , -0.11584])"
      ]
     },
     "execution_count": 9,
     "metadata": {},
     "output_type": "execute_result"
    }
   ],
   "source": [
    "y * p"
   ]
  },
  {
   "cell_type": "code",
   "execution_count": 10,
   "metadata": {},
   "outputs": [
    {
     "data": {
      "text/plain": [
       "5.208959999999999"
      ]
     },
     "execution_count": 10,
     "metadata": {},
     "output_type": "execute_result"
    }
   ],
   "source": [
    "(y * p).sum()"
   ]
  },
  {
   "cell_type": "code",
   "execution_count": 11,
   "metadata": {},
   "outputs": [
    {
     "data": {
      "text/plain": [
       "105000"
      ]
     },
     "execution_count": 11,
     "metadata": {},
     "output_type": "execute_result"
    }
   ],
   "source": [
    "900*150 - 30000"
   ]
  },
  {
   "cell_type": "code",
   "execution_count": 12,
   "metadata": {},
   "outputs": [],
   "source": [
    "y = sympy.symbols(\"y\")"
   ]
  },
  {
   "cell_type": "code",
   "execution_count": 13,
   "metadata": {},
   "outputs": [],
   "source": [
    "expr = ((105000 + 16000 * y - 150 * y**2) / 20) >= 9280"
   ]
  },
  {
   "cell_type": "code",
   "execution_count": 14,
   "metadata": {},
   "outputs": [
    {
     "data": {
      "text/latex": [
       "$\\displaystyle - \\frac{15 y^{2}}{2} + 800 y + 5250 \\geq 9280$"
      ],
      "text/plain": [
       "-15*y**2/2 + 800*y + 5250 >= 9280"
      ]
     },
     "execution_count": 14,
     "metadata": {},
     "output_type": "execute_result"
    }
   ],
   "source": [
    "expr"
   ]
  },
  {
   "cell_type": "code",
   "execution_count": 15,
   "metadata": {},
   "outputs": [],
   "source": [
    "s = sympy.solve(expr, y, domain=sympy.Reals)"
   ]
  },
  {
   "cell_type": "code",
   "execution_count": 16,
   "metadata": {},
   "outputs": [
    {
     "data": {
      "text/latex": [
       "$\\displaystyle y \\leq \\frac{2 \\sqrt{5191}}{3} + \\frac{160}{3} \\wedge \\frac{160}{3} - \\frac{2 \\sqrt{5191}}{3} \\leq y$"
      ],
      "text/plain": [
       "(y <= 2*sqrt(5191)/3 + 160/3) & (160/3 - 2*sqrt(5191)/3 <= y)"
      ]
     },
     "execution_count": 16,
     "metadata": {},
     "output_type": "execute_result"
    }
   ],
   "source": [
    "s"
   ]
  },
  {
   "cell_type": "code",
   "execution_count": 17,
   "metadata": {},
   "outputs": [
    {
     "data": {
      "text/plain": [
       "5.300936858546542"
      ]
     },
     "execution_count": 17,
     "metadata": {},
     "output_type": "execute_result"
    }
   ],
   "source": [
    "160 / 3 - 2 /3 * 5191 ** 0.5"
   ]
  },
  {
   "cell_type": "code",
   "execution_count": 18,
   "metadata": {},
   "outputs": [
    {
     "name": "stdout",
     "output_type": "stream",
     "text": [
      "      2                      \n",
      "  15⋅y                       \n",
      "- ───── + 350⋅y + 5250 ≥ 9280\n",
      "    2                        \n"
     ]
    },
    {
     "data": {
      "text/plain": [
       "[20.6666666666667 <= y, y <= 26.0]"
      ]
     },
     "execution_count": 18,
     "metadata": {},
     "output_type": "execute_result"
    }
   ],
   "source": [
    "x, y = sympy.symbols(\"x y\")\n",
    "expr = sympy.Integral(500 * y + 300 * (x - y), (x, y, 30)) / 20 + sympy.Integral(500 * x - 100 * (y - x), (x, 10, y)) / 20\n",
    "expr = expr.doit() >= 9280\n",
    "print(sympy.pretty(expr))\n",
    "solu = sympy.solve(expr, y)\n",
    "[s.evalf() for s in solu.args]"
   ]
  },
  {
   "cell_type": "code",
   "execution_count": null,
   "metadata": {},
   "outputs": [],
   "source": []
  },
  {
   "cell_type": "code",
   "execution_count": 19,
   "metadata": {},
   "outputs": [
    {
     "name": "stdout",
     "output_type": "stream",
     "text": [
      "               2       \n",
      "   3   ⎛     3⎞        \n",
      "  a    ⎜    a ⎟        \n",
      "- ── - ⎜1 - ──⎟  + 1.25\n",
      "  4    ⎝    8 ⎠        \n",
      "[-1.58740105196820, 1.58740105196820, -0.7937005259841 - 1.3747296369986*I, -0.7937005259841 + 1.3747296369986*I, 0.7937005259841 - 1.3747296369986*I, 0.7937005259841 + 1.3747296369986*I]\n"
     ]
    }
   ],
   "source": [
    "a = sympy.symbols(\"a\")\n",
    "expr = 2 - 2 * a**3 / 8 - (1 - a**3 / 8) ** 2 - 3/4\n",
    "print(sympy.pretty(expr))\n",
    "solu = sympy.solve(expr, a, domain=\"QQ\")\n",
    "print(solu)"
   ]
  },
  {
   "cell_type": "code",
   "execution_count": null,
   "metadata": {},
   "outputs": [],
   "source": []
  },
  {
   "cell_type": "code",
   "execution_count": 20,
   "metadata": {},
   "outputs": [
    {
     "data": {
      "text/plain": [
       "1.5874010519681994"
      ]
     },
     "execution_count": 20,
     "metadata": {},
     "output_type": "execute_result"
    }
   ],
   "source": [
    "2 ** (2/3)"
   ]
  },
  {
   "cell_type": "code",
   "execution_count": 21,
   "metadata": {},
   "outputs": [
    {
     "name": "stdout",
     "output_type": "stream",
     "text": [
      "[(2 - sqrt(3), sqrt(3) + 2), (sqrt(3) + 2, 2 - sqrt(3))]\n"
     ]
    }
   ],
   "source": [
    "a, b = sympy.symbols(\"a b\")\n",
    "eq1 = b ** 2 - 4 * b + 4 + a ** 2 - 4 * a + 4 - a * b - 2 * a - 2 * b + 4 - 1\n",
    "eq2 = a + b - 4\n",
    "solu = sympy.solve((eq1, eq2), (a, b))\n",
    "print(solu)"
   ]
  },
  {
   "cell_type": "code",
   "execution_count": 22,
   "metadata": {},
   "outputs": [
    {
     "data": {
      "text/latex": [
       "$\\displaystyle \\frac{42500}{3}$"
      ],
      "text/plain": [
       "42500/3"
      ]
     },
     "execution_count": 22,
     "metadata": {},
     "output_type": "execute_result"
    }
   ],
   "source": [
    "sympy.Rational(5,3) * 7000 + 2500"
   ]
  },
  {
   "cell_type": "code",
   "execution_count": 23,
   "metadata": {},
   "outputs": [
    {
     "data": {
      "text/latex": [
       "$\\displaystyle e^{5 - y}$"
      ],
      "text/plain": [
       "exp(5 - y)"
      ]
     },
     "execution_count": 23,
     "metadata": {},
     "output_type": "execute_result"
    }
   ],
   "source": [
    "sympy.exp(-y+5)"
   ]
  },
  {
   "cell_type": "code",
   "execution_count": 24,
   "metadata": {},
   "outputs": [
    {
     "name": "stdout",
     "output_type": "stream",
     "text": [
      "(x >= 0) & (x <= 1) & (y > 5)\n",
      "   3  2  5 - y\n",
      "2⋅x ⋅y ⋅ℯ     \n",
      "∞ 1                     \n",
      "⌠ ⌠                     \n",
      "⎮ ⎮    3  2  5 - y      \n",
      "⎮ ⎮ 2⋅x ⋅y ⋅ℯ      dx dy\n",
      "⌡ ⌡                     \n",
      "5 0                     \n",
      "37/2\n"
     ]
    }
   ],
   "source": [
    "x, y = sympy.symbols(\"x y\")\n",
    "condition = sympy.And(0 <= x, x <= 1, y > 5)\n",
    "print(condition)\n",
    "f = x**2 * y**2 * sympy.exp(-y+5) * (2 * x)\n",
    "print(sympy.pretty(f))\n",
    "expr = sympy.Integral(f, (x, 0, 1), (y, 5, sympy.oo))\n",
    "solu = expr.doit()\n",
    "print(sympy.pretty(expr))\n",
    "print(solu)"
   ]
  },
  {
   "cell_type": "code",
   "execution_count": 25,
   "metadata": {},
   "outputs": [
    {
     "name": "stdout",
     "output_type": "stream",
     "text": [
      " l   l                \n",
      " ─   ─                \n",
      " 2   2                \n",
      " ⌠   ⌠                \n",
      " ⎮   ⎮         2      \n",
      " ⎮   ⎮  (x - y)  dx dy\n",
      " ⌡   ⌡                \n",
      "-l  -l                \n",
      "─── ───               \n",
      " 2   2                \n",
      "──────────────────────\n",
      "           2          \n",
      "          l           \n",
      " 2\n",
      "l \n",
      "──\n",
      "6 \n"
     ]
    }
   ],
   "source": [
    "x, y, l = sympy.symbols(\"x y l\")\n",
    "expr = (1/ l ** 2) * sympy.Integral((x - y) ** 2, (x, -l/2, l/2), (y, -l/2, l/2))\n",
    "print(sympy.pretty(expr))\n",
    "solu = expr.doit()\n",
    "print(sympy.pretty(solu))"
   ]
  },
  {
   "cell_type": "code",
   "execution_count": 26,
   "metadata": {},
   "outputs": [
    {
     "name": "stdout",
     "output_type": "stream",
     "text": [
      "∞                \n",
      "⌠                \n",
      "⎮     -│x│       \n",
      "⎮  x⋅ℯ    ⋅│x│   \n",
      "⎮  ─────────── dx\n",
      "⎮       2        \n",
      "⌡                \n",
      "-∞               \n",
      "0\n"
     ]
    }
   ],
   "source": [
    "x= sympy.symbols(\"x\")\n",
    "expr = sympy.Integral(x * sympy.Abs(x) * sympy.Rational(1,2) * sympy.exp( - sympy.Abs(x)), (x, -sympy.oo, sympy.oo))\n",
    "print(sympy.pretty(expr))\n",
    "solu = expr.doit()\n",
    "print(sympy.pretty(solu))"
   ]
  },
  {
   "cell_type": "code",
   "execution_count": 27,
   "metadata": {},
   "outputs": [
    {
     "name": "stdout",
     "output_type": "stream",
     "text": [
      "  1   1                 \n",
      "  ⌠   ⌠                 \n",
      "  ⎮   ⎮          2      \n",
      "2⋅⎮   ⎮   (x + y)  dy dx\n",
      "  ⌡   ⌡                 \n",
      "  0 1 - x               \n",
      "11/6\n"
     ]
    }
   ],
   "source": [
    "x, y = sympy.symbols(\"x y\")\n",
    "expr = 2 * sympy.Integral((x + y) ** 2, (y, 1 - x, 1), (x, 0, 1))\n",
    "print(sympy.pretty(expr))\n",
    "solu = expr.doit()\n",
    "print(sympy.pretty(solu))"
   ]
  },
  {
   "cell_type": "code",
   "execution_count": 28,
   "metadata": {},
   "outputs": [
    {
     "name": "stdout",
     "output_type": "stream",
     "text": [
      "  1   1                \n",
      "  ⌠   ⌠                \n",
      "2⋅⎮   ⎮   (x + y) dy dx\n",
      "  ⌡   ⌡                \n",
      "  0 1 - x              \n",
      "4/3\n"
     ]
    }
   ],
   "source": [
    "x, y = sympy.symbols(\"x y\")\n",
    "expr = 2 * sympy.Integral((x + y), (y, 1 - x, 1), (x, 0, 1))\n",
    "print(sympy.pretty(expr))\n",
    "solu = expr.doit()\n",
    "print(sympy.pretty(solu))"
   ]
  },
  {
   "cell_type": "code",
   "execution_count": 29,
   "metadata": {},
   "outputs": [
    {
     "name": "stdout",
     "output_type": "stream",
     "text": [
      "  1   1                \n",
      "  ⌠   ⌠                \n",
      "2⋅⎮   ⎮   (x + y) dy dx\n",
      "  ⌡   ⌡                \n",
      "  0 1 - x              \n",
      "4/3\n"
     ]
    }
   ],
   "source": [
    "x, y = sympy.symbols(\"x y\")\n",
    "expr = 2 * sympy.Integral((x + y), (y, 1 - x, 1), (x, 0, 1))\n",
    "print(sympy.pretty(expr))\n",
    "solu = expr.doit()\n",
    "print(sympy.pretty(solu))"
   ]
  },
  {
   "cell_type": "code",
   "execution_count": 30,
   "metadata": {},
   "outputs": [
    {
     "name": "stdout",
     "output_type": "stream",
     "text": [
      "∞                  \n",
      "⌠                  \n",
      "⎮      2  -0.5⋅y   \n",
      "⎮ 0.5⋅y ⋅ℯ       dy\n",
      "⌡                  \n",
      "0                  \n",
      "8.00000000000000\n"
     ]
    }
   ],
   "source": [
    "y = sympy.symbols(\"y\")\n",
    "expr = sympy.Integral((y**2 * (1/2)* sympy.exp(-1/2 * y)), (y, 0, sympy.oo))\n",
    "print(sympy.pretty(expr))\n",
    "solu = expr.doit()\n",
    "print(sympy.pretty(solu))"
   ]
  },
  {
   "cell_type": "code",
   "execution_count": 31,
   "metadata": {},
   "outputs": [
    {
     "data": {
      "text/latex": [
       "$\\displaystyle \\begin{cases} \\frac{1}{p} & \\text{for}\\: p > 0 \\wedge p < 2 \\\\- \\frac{p \\sum_{k=1}^{\\infty} k \\left(1 - p\\right)^{k}}{p - 1} & \\text{otherwise} \\end{cases}$"
      ],
      "text/plain": [
       "Piecewise((1/p, (p > 0) & (p < 2)), (-p*Sum(k*(1 - p)**k, (k, 1, oo))/(p - 1), True))"
      ]
     },
     "execution_count": 31,
     "metadata": {},
     "output_type": "execute_result"
    }
   ],
   "source": [
    "k, p = sympy.symbols(\"k p\")\n",
    "expr = sympy.summation(k * p * (1-p) **(k-1), (k, 1, sympy.oo))\n",
    "expr.simplify()"
   ]
  },
  {
   "cell_type": "code",
   "execution_count": 32,
   "metadata": {},
   "outputs": [
    {
     "data": {
      "text/latex": [
       "$\\displaystyle \\begin{cases} \\frac{2 - p}{p^{2}} & \\text{for}\\: p > 0 \\wedge p < 2 \\\\- \\frac{p \\sum_{k=1}^{\\infty} k^{2} \\left(1 - p\\right)^{k}}{p - 1} & \\text{otherwise} \\end{cases}$"
      ],
      "text/plain": [
       "Piecewise(((2 - p)/p**2, (p > 0) & (p < 2)), (-p*Sum(k**2*(1 - p)**k, (k, 1, oo))/(p - 1), True))"
      ]
     },
     "execution_count": 32,
     "metadata": {},
     "output_type": "execute_result"
    }
   ],
   "source": [
    "k, p = sympy.symbols(\"k p\")\n",
    "expr = sympy.summation(k**2 * p * (1-p) **(k-1), (k, 1, sympy.oo))\n",
    "expr.simplify()"
   ]
  },
  {
   "cell_type": "code",
   "execution_count": 33,
   "metadata": {},
   "outputs": [
    {
     "name": "stdout",
     "output_type": "stream",
     "text": [
      "∞ ∞                                    \n",
      "⌠ ⌠                                    \n",
      "⎮ ⎮                0.5     2    2      \n",
      "⎮ ⎮       ⎛ 2    2⎞     - x  - y       \n",
      "⎮ ⎮ 4⋅x⋅y⋅⎝x  + y ⎠   ⋅ℯ          dx dy\n",
      "⌡ ⌡                                    \n",
      "0 0                                    \n"
     ]
    },
    {
     "data": {
      "text/latex": [
       "$\\displaystyle 4 \\int\\limits_{0}^{\\infty} \\begin{cases} 0.5 y^{1.0} \\Gamma\\left(1.5, y^{2}\\right) & \\text{for}\\: \\left(\\left|{\\arg{\\left(y \\right)}}\\right| < \\frac{\\pi}{2} \\wedge \\left|{\\arg{\\left(y \\right)}}\\right| \\neq \\frac{\\pi}{2}\\right) \\vee \\left|{\\arg{\\left(y \\right)}}\\right| < \\frac{\\pi}{2} \\\\\\int\\limits_{0}^{\\infty} x y \\left(x^{2} + y^{2}\\right)^{0.5} e^{- x^{2} - y^{2}}\\, dx & \\text{otherwise} \\end{cases}\\, dy$"
      ],
      "text/plain": [
       "4*Integral(Piecewise((0.5*y**1.0*uppergamma(1.5, y**2), (Abs(arg(y)) < pi/2) | ((Abs(arg(y)) < pi/2) & Ne(Abs(arg(y)), pi/2))), (Integral(x*y*(x**2 + y**2)**0.5*exp(-x**2 - y**2), (x, 0, oo)), True)), (y, 0, oo))"
      ]
     },
     "execution_count": 33,
     "metadata": {},
     "output_type": "execute_result"
    }
   ],
   "source": [
    "x, y = sympy.symbols(\"x y\")\n",
    "expr = sympy.Integral((x**2 + y**2)**(1/2) * 4 * x * y * sympy.exp(-(x**2+y**2)), (x, 0, sympy.oo), (y, 0, sympy.oo))\n",
    "print(sympy.pretty(expr))\n",
    "expr.simplify()"
   ]
  },
  {
   "cell_type": "code",
   "execution_count": 34,
   "metadata": {},
   "outputs": [
    {
     "name": "stdout",
     "output_type": "stream",
     "text": [
      "∞        \n",
      "⌠        \n",
      "⎮    2   \n",
      "⎮  -r    \n",
      "⎮ ℯ    dr\n",
      "⌡        \n",
      "0        \n"
     ]
    },
    {
     "data": {
      "text/latex": [
       "$\\displaystyle \\frac{\\sqrt{\\pi}}{2}$"
      ],
      "text/plain": [
       "sqrt(pi)/2"
      ]
     },
     "execution_count": 34,
     "metadata": {},
     "output_type": "execute_result"
    }
   ],
   "source": [
    "r = sympy.symbols(\"r\")\n",
    "expr = sympy.Integral(sympy.exp(-r**2), (r, 0, sympy.oo))\n",
    "print(sympy.pretty(expr))\n",
    "expr.doit()"
   ]
  },
  {
   "cell_type": "code",
   "execution_count": 35,
   "metadata": {},
   "outputs": [
    {
     "data": {
      "text/latex": [
       "$\\displaystyle 20.5165310700453$"
      ],
      "text/plain": [
       "20.5165310700453"
      ]
     },
     "execution_count": 35,
     "metadata": {},
     "output_type": "execute_result"
    }
   ],
   "source": [
    "sympy.log(1500000, 2).evalf()"
   ]
  },
  {
   "cell_type": "code",
   "execution_count": 71,
   "metadata": {},
   "outputs": [
    {
     "data": {
      "text/latex": [
       "$\\displaystyle \\int\\limits_{-\\infty}^{\\infty}\\int\\limits_{-\\infty}^{\\infty} \\frac{\\sigma_{1} \\sigma_{2} u v e^{- \\frac{- 2 \\rho u v + u^{2} + v^{2}}{2 - 2 \\rho^{2}}}}{2 \\sqrt{1 - \\rho^{2}}}\\, du\\, dv$"
      ],
      "text/plain": [
       "Integral(sigma1*sigma2*u*v*exp(-(-2*rho*u*v + u**2 + v**2)/(2 - 2*rho**2))/(2*sqrt(1 - rho**2)), (u, -oo, oo), (v, -oo, oo))"
      ]
     },
     "execution_count": 71,
     "metadata": {},
     "output_type": "execute_result"
    }
   ],
   "source": [
    "u, v = sympy.symbols(\"u v\")\n",
    "sigma1, sigma2 = sympy.symbols(\"sigma1 sigma2\")\n",
    "rho = sympy.symbols(\"rho\")\n",
    "ex = (-1) * 1 / (2 * (1 - rho**2)) * (u**2 - 2 * rho * u * v + v**2)\n",
    "expr = u * v * sigma1 * sigma2 / (2 * sympy.sqrt(1 - rho**2)) * sympy.exp(ex)\n",
    "sympy.Integral(expr, (u, -sympy.oo, sympy.oo), (v, -sympy.oo, sympy.oo))"
   ]
  },
  {
   "cell_type": "code",
   "execution_count": 37,
   "metadata": {},
   "outputs": [
    {
     "name": "stdout",
     "output_type": "stream",
     "text": [
      "∞ ∞                                    \n",
      "⌠ ⌠                                    \n",
      "⎮ ⎮                0.5     2    2      \n",
      "⎮ ⎮       ⎛ 2    2⎞     - x  - y       \n",
      "⎮ ⎮ 4⋅x⋅y⋅⎝x  + y ⎠   ⋅ℯ          dx dy\n",
      "⌡ ⌡                                    \n",
      "0 0                                    \n"
     ]
    },
    {
     "data": {
      "text/latex": [
       "$\\displaystyle 4 \\int\\limits_{0}^{\\infty} \\begin{cases} 0.5 y^{1.0} \\Gamma\\left(1.5, y^{2}\\right) & \\text{for}\\: \\left(\\left|{\\arg{\\left(y \\right)}}\\right| < \\frac{\\pi}{2} \\wedge \\left|{\\arg{\\left(y \\right)}}\\right| \\neq \\frac{\\pi}{2}\\right) \\vee \\left|{\\arg{\\left(y \\right)}}\\right| < \\frac{\\pi}{2} \\\\\\int\\limits_{0}^{\\infty} x y \\left(x^{2} + y^{2}\\right)^{0.5} e^{- x^{2} - y^{2}}\\, dx & \\text{otherwise} \\end{cases}\\, dy$"
      ],
      "text/plain": [
       "4*Integral(Piecewise((0.5*y**1.0*uppergamma(1.5, y**2), (Abs(arg(y)) < pi/2) | ((Abs(arg(y)) < pi/2) & Ne(Abs(arg(y)), pi/2))), (Integral(x*y*(x**2 + y**2)**0.5*exp(-x**2 - y**2), (x, 0, oo)), True)), (y, 0, oo))"
      ]
     },
     "execution_count": 37,
     "metadata": {},
     "output_type": "execute_result"
    }
   ],
   "source": [
    "x, y, rho, mu1, mu2, sigma1, sigma2 = sympy.symbols(\"x y rho mu1 mu2 sigma1 sigma2\")\n",
    "expr = sympy.Integral((x**2 + y**2)**(1/2) * 4 * x * y * sympy.exp(-(x**2+y**2)), (x, 0, sympy.oo), (y, 0, sympy.oo))\n",
    "print(sympy.pretty(expr))\n",
    "expr.simplify()"
   ]
  },
  {
   "cell_type": "code",
   "execution_count": null,
   "metadata": {},
   "outputs": [],
   "source": []
  }
 ],
 "metadata": {
  "kernelspec": {
   "display_name": "base",
   "language": "python",
   "name": "python3"
  },
  "language_info": {
   "codemirror_mode": {
    "name": "ipython",
    "version": 3
   },
   "file_extension": ".py",
   "mimetype": "text/x-python",
   "name": "python",
   "nbconvert_exporter": "python",
   "pygments_lexer": "ipython3",
   "version": "3.11.5"
  }
 },
 "nbformat": 4,
 "nbformat_minor": 2
}
