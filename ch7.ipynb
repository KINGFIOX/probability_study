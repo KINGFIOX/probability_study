{
 "cells": [
  {
   "cell_type": "code",
   "execution_count": 1,
   "metadata": {},
   "outputs": [],
   "source": [
    "import sympy"
   ]
  },
  {
   "cell_type": "code",
   "execution_count": 22,
   "metadata": {},
   "outputs": [
    {
     "name": "stdout",
     "output_type": "stream",
     "text": [
      "[3/5 - sqrt(6)/10, sqrt(6)/10 + 3/5]\n",
      "0.355051025721682 0.844948974278318\n"
     ]
    }
   ],
   "source": [
    "theta = sympy.symbols(\"theta\")\n",
    "expr = sympy.Eq(6 / theta - 2 / (1 - theta) - 4 / (1 - 2 * theta), 0)\n",
    "# 解方程\n",
    "res = sympy.solve(expr, theta)\n",
    "# 打印好看一些\n",
    "print(res)\n",
    "# 小数形式\n",
    "print(res[0].evalf(), res[1].evalf())"
   ]
  },
  {
   "cell_type": "code",
   "execution_count": 27,
   "metadata": {},
   "outputs": [
    {
     "data": {
      "image/png": "[encoded data removed]",
      "text/latex": [
       "$\\displaystyle \\left[ \\frac{4 N \\left(n_{0} + n_{1}\\right)}{3 \\left(n_{0} + n_{1} + n_{2}\\right)}\\right]$"
      ],
      "text/plain": [
       "⎡ 4⋅N⋅(n₀ + n₁)  ⎤\n",
       "⎢────────────────⎥\n",
       "⎣3⋅(n₀ + n₁ + n₂)⎦"
      ]
     },
     "execution_count": 27,
     "metadata": {},
     "output_type": "execute_result"
    }
   ],
   "source": [
    "theta, n0, n1, n2, N = sympy.symbols(\"theta n0 n1 n2 N\")\n",
    "expr = sympy.Eq(n0 / theta + n1/theta - (3 * n2) / (4 *N - 3 * theta), 0)\n",
    "res = sympy.solve(expr, theta)\n",
    "res"
   ]
  },
  {
   "cell_type": "code",
   "execution_count": null,
   "metadata": {},
   "outputs": [],
   "source": [
    "theta, n, M, C = sympy.symbols(\"theta n M C\")\n",
    "expr = sympy.Eq(n0 / theta + n1/theta - (3 * n2) / (4 *N - 3 * theta), 0)\n",
    "res = sympy.solve(expr, theta)\n",
    "res"
   ]
  },
  {
   "cell_type": "code",
   "execution_count": null,
   "metadata": {},
   "outputs": [],
   "source": []
  },
  {
   "cell_type": "code",
   "execution_count": null,
   "metadata": {},
   "outputs": [],
   "source": []
  },
  {
   "cell_type": "code",
   "execution_count": null,
   "metadata": {},
   "outputs": [],
   "source": []
  }
 ],
 "metadata": {
  "kernelspec": {
   "display_name": "base",
   "language": "python",
   "name": "python3"
  },
  "language_info": {
   "codemirror_mode": {
    "name": "ipython",
    "version": 3
   },
   "file_extension": ".py",
   "mimetype": "text/x-python",
   "name": "python",
   "nbconvert_exporter": "python",
   "pygments_lexer": "ipython3",
   "version": "3.11.5"
  }
 },
 "nbformat": 4,
 "nbformat_minor": 2
}
