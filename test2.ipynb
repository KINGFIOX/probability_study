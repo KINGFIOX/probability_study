{
 "cells": [
  {
   "cell_type": "code",
   "execution_count": 1,
   "metadata": {},
   "outputs": [],
   "source": [
    "import sympy"
   ]
  },
  {
   "cell_type": "code",
   "execution_count": 10,
   "metadata": {},
   "outputs": [
    {
     "ename": "TypeError",
     "evalue": "cannot unpack non-iterable Symbol object",
     "output_type": "error",
     "traceback": [
      "\u001b[0;31m---------------------------------------------------------------------------\u001b[0m",
      "\u001b[0;31mTypeError\u001b[0m                                 Traceback (most recent call last)",
      "Cell \u001b[0;32mIn[10], line 1\u001b[0m\n\u001b[0;32m----> 1\u001b[0m x, y \u001b[38;5;241m=\u001b[39m sympy\u001b[38;5;241m.\u001b[39mSymbol(\u001b[38;5;124m\"\u001b[39m\u001b[38;5;124mx, y\u001b[39m\u001b[38;5;124m\"\u001b[39m)\n\u001b[1;32m      2\u001b[0m f \u001b[38;5;241m=\u001b[39m sympy\u001b[38;5;241m.\u001b[39mPiecewise((x, x \u001b[38;5;241m<\u001b[39m\u001b[38;5;241m=\u001b[39m \u001b[38;5;241m2\u001b[39m), (\u001b[38;5;241m2\u001b[39m, x \u001b[38;5;241m>\u001b[39m \u001b[38;5;241m2\u001b[39m))  \u001b[38;5;66;03m# 分段函数\u001b[39;00m\n\u001b[1;32m      3\u001b[0m F \u001b[38;5;241m=\u001b[39m sympy\u001b[38;5;241m.\u001b[39mintegrate(f, x)\n",
      "\u001b[0;31mTypeError\u001b[0m: cannot unpack non-iterable Symbol object"
     ]
    }
   ],
   "source": [
    "x, y = sympy.Symbol(\"x, y\")\n",
    "f = sympy.Piecewise((x, x <= 2), (2, x > 2))  # 分段函数\n",
    "F = sympy.integrate(f, x)\n",
    "expand_F = sympy.expand(F)  # 分段函数展开\n",
    "print(expand_F)"
   ]
  },
  {
   "cell_type": "code",
   "execution_count": null,
   "metadata": {},
   "outputs": [],
   "source": []
  },
  {
   "cell_type": "code",
   "execution_count": null,
   "metadata": {},
   "outputs": [],
   "source": []
  }
 ],
 "metadata": {
  "kernelspec": {
   "display_name": "base",
   "language": "python",
   "name": "python3"
  },
  "language_info": {
   "codemirror_mode": {
    "name": "ipython",
    "version": 3
   },
   "file_extension": ".py",
   "mimetype": "text/x-python",
   "name": "python",
   "nbconvert_exporter": "python",
   "pygments_lexer": "ipython3",
   "version": "3.11.5"
  }
 },
 "nbformat": 4,
 "nbformat_minor": 2
}
