{
 "cells": [
  {
   "cell_type": "code",
   "execution_count": 3,
   "metadata": {
    "vscode": {
     "languageId": "rust"
    }
   },
   "outputs": [],
   "source": [
    "enum Direction {\n",
    "    East,\n",
    "    West,\n",
    "    North,\n",
    "    South,\n",
    "}\n",
    "\n",
    "fn main() {\n",
    "    let dire = Direction::South;\n",
    "    match dire {\n",
    "        Direction::East => println!(\"East\"),\n",
    "        Direction::North | Direction::South => {\n",
    "            println!(\"South or North\");\n",
    "        },\n",
    "        _ => println!(\"West\"),\n",
    "    };\n",
    "}"
   ]
  },
  {
   "cell_type": "code",
   "execution_count": 4,
   "metadata": {
    "vscode": {
     "languageId": "rust"
    }
   },
   "outputs": [
    {
     "name": "stdout",
     "output_type": "stream",
     "text": [
      "在匹配前，age是Some(30)\n",
      "匹配出来的age是30\n",
      "在匹配后，age是Some(30)\n"
     ]
    }
   ],
   "source": [
    "let age = Some(30);\n",
    "println!(\"在匹配前，age是{:?}\", age);\n",
    "match age {\n",
    "    Some(x) =>  println!(\"匹配出来的age是{}\", x),\n",
    "    _ => ()\n",
    "}\n",
    "println!(\"在匹配后，age是{:?}\", age);\n"
   ]
  },
  {
   "cell_type": "code",
   "execution_count": null,
   "metadata": {
    "vscode": {
     "languageId": "rust"
    }
   },
   "outputs": [],
   "source": []
  }
 ],
 "metadata": {
  "kernelspec": {
   "display_name": "Rust",
   "language": "rust",
   "name": "rust"
  },
  "language_info": {
   "codemirror_mode": "rust",
   "file_extension": ".rs",
   "mimetype": "text/rust",
   "name": "Rust",
   "pygment_lexer": "rust",
   "version": ""
  }
 },
 "nbformat": 4,
 "nbformat_minor": 2
}
